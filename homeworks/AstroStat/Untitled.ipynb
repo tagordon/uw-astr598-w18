{
 "cells": [
  {
   "cell_type": "code",
   "execution_count": 6,
   "metadata": {
    "collapsed": true
   },
   "outputs": [],
   "source": [
    "import pandas as pd\n",
    "from astropy.io import fits\n",
    "import pandas as pd\n",
    "import numpy as np\n",
    "import sqlite3\n",
    "import matplotlib.pyplot as plt\n",
    "from astropy.table import Table, Column\n",
    "import astroML\n",
    "%matplotlib inline\n",
    "import scipy\n",
    "from astroML.stats import binned_statistic_2d"
   ]
  },
  {
   "cell_type": "code",
   "execution_count": 42,
   "metadata": {},
   "outputs": [],
   "source": [
    "#Pandas#\n",
    "#data = fits.getdata('HLC.RA_00_to_01.fits.gz', 1)\n",
    "#table = pd.DataFrame(data)\n",
    "\n",
    "def read_HLC(name):\n",
    "    #Table#\n",
    "    table = Table.read(name)\n",
    "    \n",
    "    #----filters-----#\n",
    "    stars=table['MEAN_OBJECT_TYPE'] > 5 #np.where(table['MEAN_OBJECT_TYPE']>5)[0]\n",
    "    raclip=np.abs(table['RA_PM_CLIP']) < 0.05\n",
    "    declip=np.abs(table['DEC_PM_CLIP']) < 0.05\n",
    "    m=stars*raclip*declip\n",
    "    \n",
    "    table=table[m]\n",
    "    \n",
    "    #----proper motion----#\n",
    "    rapm=np.abs(table['RA_PM_CLIP'])\n",
    "    decpm=np.abs(table['DEC_PM_CLIP'])\n",
    "    #---colors----#\n",
    "    #u=table['MEAN_PSFMAG_CLIP'][:,0]\n",
    "    g=table['MEAN_PSFMAG_CLIP'][:,1]\n",
    "    r=table['MEAN_PSFMAG_CLIP'][:,2]\n",
    "    i=table['MEAN_PSFMAG_CLIP'][:,3]\n",
    "    #z=table['MEAN_PSFMAG_CLIP'][:,4]\n",
    "    \n",
    "    return(rapm,decpm,g,r,i)\n",
    "\n",
    "\n",
    "rapm,decpm,g,r,i= read_HLC('HLC.RA_00_to_01.fits.gz')"
   ]
  },
  {
   "cell_type": "code",
   "execution_count": 43,
   "metadata": {},
   "outputs": [
    {
     "data": {
      "text/plain": [
       "[<matplotlib.lines.Line2D at 0x111779748>]"
      ]
     },
     "execution_count": 43,
     "metadata": {},
     "output_type": "execute_result"
    },
    {
     "data": {
      "image/png": "[encoded data removed]",
      "text/plain": [
       "<matplotlib.figure.Figure at 0x11147fac8>"
      ]
     },
     "metadata": {},
     "output_type": "display_data"
    }
   ],
   "source": [
    "plt.plot(rapm)"
   ]
  },
  {
   "cell_type": "code",
   "execution_count": 50,
   "metadata": {},
   "outputs": [
    {
     "name": "stderr",
     "output_type": "stream",
     "text": [
      "/Users/BriBri/miniconda3/envs/astroconda36/lib/python3.6/site-packages/ipykernel_launcher.py:10: RuntimeWarning: divide by zero encountered in log10\n",
      "  # Remove the CWD from sys.path while we load stuff.\n"
     ]
    },
    {
     "data": {
      "image/png": "[encoded data removed]",
      "text/plain": [
       "<matplotlib.figure.Figure at 0x1105f9160>"
      ]
     },
     "metadata": {},
     "output_type": "display_data"
    }
   ],
   "source": [
    "#---create figure-----#\n",
    "fig = plt.figure(figsize=[10,8])\n",
    "ax = plt.subplot(111)\n",
    "\n",
    "#-----stats------#\n",
    "N, xedges, yedges = binned_statistic_2d(g-i, r, r,\n",
    "                                        'count', bins=500)\n",
    "\n",
    "#-----plot------#\n",
    "plt.imshow(np.log10(N.T), origin='lower',\n",
    "           extent=[xedges[0], xedges[-1], yedges[0], yedges[-1]],\n",
    "           aspect='auto', interpolation='nearest')\n",
    "\n",
    "xmin,xmax,ymin,ymax=[0,1.5,15,23]\n",
    "plt.xlim(xmin,xmax)\n",
    "plt.ylim(ymin,ymax)\n",
    "\n",
    "plt.gca().invert_yaxis()"
   ]
  },
  {
   "cell_type": "code",
   "execution_count": null,
   "metadata": {
    "collapsed": true
   },
   "outputs": [],
   "source": [
    "#---------STARS-------------#\n",
    "#------------------------------------------------------------\n",
    "# Plot the results using the binned_statistic function\n",
    "\n",
    "N, xedges, yedges = binned_statistic_2d(g-i, r, rapm,\n",
    "                                        'count', bins=100)\n",
    "pm_median, xedges, yedges = binned_statistic_2d(, logg, count,\n",
    "                                               'median', bins=100)\n",
    "\n",
    "# Define custom colormaps: Set pixels with no sources to white\n",
    "cmap = plt.cm.copper\n",
    "cmap.set_bad('w', 1.)\n",
    "\n",
    "cmap_multicolor = plt.cm.jet\n",
    "cmap_multicolor.set_bad('w', 1.)\n",
    "\n",
    "# Create figure and subplots\n",
    "fig = plt.figure(figsize=(10, 5))\n",
    "fig.subplots_adjust(wspace=0.22, left=0.1, right=0.95,\n",
    "                    bottom=0.12, top=0.95)\n",
    "\n"
   ]
  }
 ],
 "metadata": {
  "kernelspec": {
   "display_name": "Python 3",
   "language": "python",
   "name": "python3"
  },
  "language_info": {
   "codemirror_mode": {
    "name": "ipython",
    "version": 3
   },
   "file_extension": ".py",
   "mimetype": "text/x-python",
   "name": "python",
   "nbconvert_exporter": "python",
   "pygments_lexer": "ipython3",
   "version": "3.6.1"
  }
 },
 "nbformat": 4,
 "nbformat_minor": 2
}
