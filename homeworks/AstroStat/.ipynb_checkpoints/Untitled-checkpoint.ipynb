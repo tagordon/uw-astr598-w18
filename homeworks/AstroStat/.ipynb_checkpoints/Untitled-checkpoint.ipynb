{
 "cells": [
  {
   "cell_type": "code",
   "execution_count": 2,
   "metadata": {
    "collapsed": true
   },
   "outputs": [],
   "source": [
    "import pandas as pd\n",
    "from astropy.io import fits\n",
    "import pandas as pd\n",
    "import numpy as np\n",
    "import sqlite3\n",
    "import matplotlib.pyplot as plt\n",
    "from astropy.table import Table, Column\n",
    "import astroML\n",
    "%matplotlib inline\n",
    "import scipy"
   ]
  },
  {
   "cell_type": "code",
   "execution_count": 4,
   "metadata": {
    "collapsed": true
   },
   "outputs": [],
   "source": [
    "#Pandas#\n",
    "#data = fits.getdata('HLC.RA_00_to_01.fits.gz', 1)\n",
    "#table = pd.DataFrame(data)\n",
    "\n",
    "#Table#\n",
    "table = Table.read('HLC.RA_00_to_01.fits.gz')\n",
    "\n"
   ]
  },
  {
   "cell_type": "code",
   "execution_count": 5,
   "metadata": {
    "collapsed": true
   },
   "outputs": [],
   "source": [
    "#-----Create mask to separate stars and galaxies-----------#\n",
    "stars=np.where(table['MEAN_OBJECT_TYPE']>5)[0]\n",
    "galaxies=np.where(table['MEAN_OBJECT_TYPE']<5)[0]\n",
    "rapm=table['RA_PM']\n",
    "decpm=table['DEC_PM']\n",
    "countss=np.array(range(len(stars)))\n",
    "countsg=np.array(range(len(galaxies)))\n",
    "#colors ugriz#\n",
    "u=table['MEAN_PSFMAG'][:,0]\n",
    "g=table['MEAN_PSFMAG'][:,1]\n",
    "r=table['MEAN_PSFMAG'][:,2]\n",
    "i=table['MEAN_PSFMAG'][:,3]\n",
    "z=table['MEAN_PSFMAG'][:,4]"
   ]
  },
  {
   "cell_type": "code",
   "execution_count": null,
   "metadata": {
    "collapsed": true
   },
   "outputs": [],
   "source": []
  }
 ],
 "metadata": {
  "kernelspec": {
   "display_name": "Python 3",
   "language": "python",
   "name": "python3"
  },
  "language_info": {
   "codemirror_mode": {
    "name": "ipython",
    "version": 3
   },
   "file_extension": ".py",
   "mimetype": "text/x-python",
   "name": "python",
   "nbconvert_exporter": "python",
   "pygments_lexer": "ipython3",
   "version": "3.6.1"
  }
 },
 "nbformat": 4,
 "nbformat_minor": 2
}
